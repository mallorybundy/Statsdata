{
  "cells": [
    {
      "cell_type": "markdown",
      "metadata": {
        "id": "view-in-github",
        "colab_type": "text"
      },
      "source": [
        "<a href=\"https://colab.research.google.com/github/mallorybundy/Statsdata/blob/main/G5_book_publishing_starter.ipynb\" target=\"_parent\"><img src=\"https://colab.research.google.com/assets/colab-badge.svg\" alt=\"Open In Colab\"/></a>"
      ]
    },
    {
      "cell_type": "code",
      "execution_count": null,
      "metadata": {
        "id": "XtiXE04uGB_U"
      },
      "outputs": [],
      "source": [
        "# Import libraries\n",
        "import tensorflow as tf\n",
        "from tensorflow.keras.layers.experimental import preprocessing\n",
        "\n",
        "import numpy as np\n",
        "import os\n",
        "import time\n",
        "#%load_ext tensorboard\n",
        "#https://colab.research.google.com/github/tensorflow/tensorboard/blob/master/docs/tensorboard_in_notebooks.ipynb#scrollTo=Po7rTfQswAMT"
      ]
    },
    {
      "cell_type": "code",
      "source": [
        "#%tensorboard --logdir logs\n"
      ],
      "metadata": {
        "id": "_E_bRqq9ktT7"
      },
      "execution_count": null,
      "outputs": []
    },
    {
      "cell_type": "markdown",
      "source": [
        "[Full Module links](https://byui-cse.github.io/cse450-course/module-06/)\n",
        "\n",
        "[Project Overview](https://byui-cse.github.io/cse450-course/module-06/project.html)\n",
        "\n",
        "\n",
        "\n",
        "---\n",
        "\n",
        "\n",
        "\n",
        "\n",
        "[Basis](https://www.tensorflow.org/text/tutorials/text_generation)\n",
        "\n",
        "\n",
        "---\n",
        "\n",
        "\n",
        "[Extra1](https://www.tensorflow.org/text/tutorials/text_generation#advanced_customized_training)\n",
        "\n",
        "[Extra2.1](https://www.tensorflow.org/text/guide/word_embeddings)\n",
        "[Extra2.2](https://www.tensorflow.org/tutorials/text/word2vec)\n",
        "\n",
        "[Extra3.1](https://www.tensorflow.org/text/tutorials/nmt_with_attention)\n",
        "[Extra3.2](https://github.com/tensorflow/nmt#background-on-the-attention-mechanism)"
      ],
      "metadata": {
        "id": "7-UylQsYYHNb"
      }
    },
    {
      "cell_type": "markdown",
      "metadata": {
        "id": "qv4r-dKnSRKz"
      },
      "source": [
        "## I. Parse Text Sources\n",
        "First we'll load our text sources and create our vocabulary lists and encoders. \n",
        "\n",
        "There are ways we could do this in pure python, but using the tensorflow data structures and libraries allow us to keep things super-optimized."
      ]
    },
    {
      "cell_type": "code",
      "source": [
        "import pandas as pd\n",
        "sources = pd.read_csv('https://raw.githubusercontent.com/TBrost/CSE450_ML/main/sources.csv')\n",
        "source_list = sources['url']\n",
        "sourceN_list = sources['title']"
      ],
      "metadata": {
        "id": "0KT5CfTNgOma"
      },
      "execution_count": null,
      "outputs": []
    },
    {
      "cell_type": "code",
      "source": [
        "print(sources)"
      ],
      "metadata": {
        "colab": {
          "base_uri": "https://localhost:8080/"
        },
        "id": "CXXpK3Rb--7G",
        "outputId": "2a9273b0-526d-4f42-9e3e-a8b4b6f0f660"
      },
      "execution_count": null,
      "outputs": [
        {
          "output_type": "stream",
          "name": "stdout",
          "text": [
            "                                                 url  \\\n",
            "0  https://raw.githubusercontent.com/byui-cse/cse...   \n",
            "1  https://raw.githubusercontent.com/TBrost/CSE45...   \n",
            "2  https://raw.githubusercontent.com/TBrost/CSE45...   \n",
            "3  https://raw.githubusercontent.com/TBrost/CSE45...   \n",
            "4  https://raw.githubusercontent.com/TBrost/CSE45...   \n",
            "5  https://raw.githubusercontent.com/TBrost/CSE45...   \n",
            "\n",
            "                            title      id               author  \\\n",
            "0                            Emma    emma          Jane Austen   \n",
            "1  Adventures of Huckleberry Finn    huck           Mark Twain   \n",
            "2                The Great Gatsby  gatsby  F. Scott Fitzgerald   \n",
            "3       The Count of Monte Cristo   monte      Alexandre Dumas   \n",
            "4                     The Odessey     ode                Homer   \n",
            "5                       Moby Dick    moby              Dickens   \n",
            "\n",
            "              file  \n",
            "0       austen.txt  \n",
            "1     HuckFinn.txt  \n",
            "2       Gatsby.txt  \n",
            "3  MonteCristo.txt  \n",
            "4      Odessey.txt  \n",
            "5         Moby.txt  \n"
          ]
        }
      ]
    },
    {
      "cell_type": "code",
      "source": [
        "text=\"\"\n",
        "print('Please enter the file id of the desired book to sample from.')\n",
        "file = str(input('File id: '))\n",
        "source=sources.loc[sources['id'] == file] #emma, huck, gatsby, monte, ode, moby\n",
        "source=source.reset_index()\n",
        "fname=str(source['file'][0])\n",
        "origin=str(source['url'][0])\n",
        "path_to_file = tf.keras.utils.get_file(fname=fname, origin=origin)\n",
        "text = open(path_to_file, 'rb').read().decode(encoding='utf-8')"
      ],
      "metadata": {
        "colab": {
          "base_uri": "https://localhost:8080/"
        },
        "id": "VXBliYqV59L9",
        "outputId": "ee608d73-0c50-4731-820a-c2a47a81bdf0"
      },
      "execution_count": null,
      "outputs": [
        {
          "output_type": "stream",
          "name": "stdout",
          "text": [
            "Please enter the file id of the desired book to sample from.\n",
            "File id: huck\n",
            "Downloading data from https://raw.githubusercontent.com/TBrost/CSE450_ML/main/txt_files/HuckFinn.txt\n",
            "581982/581982 [==============================] - 0s 0us/step\n"
          ]
        }
      ]
    },
    {
      "cell_type": "code",
      "execution_count": null,
      "metadata": {
        "id": "H8RbnIjwHGoR"
      },
      "outputs": [],
      "source": [
        "# Load file data\n",
        "#path_to_file = tf.keras.utils.get_file('austen.txt', 'https://raw.githubusercontent.com/byui-cse/cse450-course/master/data/austen/austen.txt')\n",
        "#text = open(path_to_file, 'rb').read().decode(encoding='utf-8')\n",
        "#print('Length of text: {} characters'.format(len(text)))"
      ]
    },
    {
      "cell_type": "code",
      "execution_count": null,
      "metadata": {
        "colab": {
          "base_uri": "https://localhost:8080/"
        },
        "id": "2XRnt0XUHUrq",
        "outputId": "be6a31ad-8612-4415-aa2e-02edc60e4d8f"
      },
      "outputs": [
        {
          "output_type": "stream",
          "name": "stdout",
          "text": [
            "﻿\n",
            "ADVENTURES\n",
            "OF\n",
            "HUCKLEBERRY FINN\n",
            "\n",
            "(Tom Sawyer’s Comrade)\n",
            "\n",
            "By Mark Twain\n",
            "\n",
            "\n",
            "\n",
            "HUCKLEBERRY FINN\n",
            "\n",
            "Scene: The Mississippi Valley Time: Forty to fifty years ago\n",
            "\n",
            "\n",
            "\n",
            "\n",
            "CHAPTER I.\n",
            "\n",
            "\n",
            "You don’t know about me witho\n"
          ]
        }
      ],
      "source": [
        "# Verify the first part of our data\n",
        "print(text[:200])"
      ]
    },
    {
      "cell_type": "code",
      "execution_count": null,
      "metadata": {
        "colab": {
          "base_uri": "https://localhost:8080/"
        },
        "id": "2SLd7l0HP1Po",
        "outputId": "9079e29e-d455-4c45-e85a-515ef87f17ac"
      },
      "outputs": [
        {
          "output_type": "stream",
          "name": "stdout",
          "text": [
            "76 unique characters\n",
            "['\\n', ' ', '!', '$', '(', ')', ',', '-', '.', '0', '1', '2', '3', '4', '5', ':', ';', '?', 'A', 'B', 'C', 'D', 'E', 'F', 'G', 'H', 'I', 'J', 'K', 'L', 'M', 'N', 'O', 'P', 'Q', 'R', 'S', 'T', 'U', 'V', 'W', 'X', 'Y', '_', 'a', 'b', 'c', 'd', 'e', 'f', 'g', 'h', 'i', 'j', 'k', 'l', 'm', 'n', 'o', 'p', 'q', 'r', 's', 't', 'u', 'v', 'w', 'x', 'y', 'z', '—', '‘', '’', '“', '”', '\\ufeff']\n"
          ]
        }
      ],
      "source": [
        "# Now we'll get a list of the unique characters in the file. This will form the\n",
        "# vocabulary of our network. There may be some characters we want to remove from this \n",
        "# set as we refine the network.\n",
        "vocab = sorted(set(text))\n",
        "print('{} unique characters'.format(len(vocab)))\n",
        "print(vocab)"
      ]
    },
    {
      "cell_type": "code",
      "execution_count": null,
      "metadata": {
        "id": "NtjOxL7wQibb"
      },
      "outputs": [],
      "source": [
        "# Next, we'll encode encode these characters into numbers so we can use them\n",
        "# with our neural network, then we'll create some mappings between the characters\n",
        "# and their numeric representations\n",
        "ids_from_chars = preprocessing.StringLookup(vocabulary=list(vocab))\n",
        "chars_from_ids = tf.keras.layers.experimental.preprocessing.StringLookup(vocabulary=ids_from_chars.get_vocabulary(), invert=True)\n",
        "\n",
        "# Here's a little helper function that we can use to turn a sequence of ids\n",
        "# back into a string:\n",
        "# turn them into a string:\n",
        "def text_from_ids(ids):\n",
        "  joinedTensor = tf.strings.reduce_join(chars_from_ids(ids), axis=-1)\n",
        "  return joinedTensor.numpy().decode(\"utf-8\")"
      ]
    },
    {
      "cell_type": "code",
      "execution_count": null,
      "metadata": {
        "colab": {
          "base_uri": "https://localhost:8080/"
        },
        "id": "52bkemreRw8q",
        "outputId": "a9be5ffd-1c9e-4b79-c8a4-35c70a792bae"
      },
      "outputs": [
        {
          "output_type": "execute_result",
          "data": {
            "text/plain": [
              "<tf.Tensor: shape=(5,), dtype=int64, numpy=array([38, 62, 65, 64, 52])>"
            ]
          },
          "metadata": {},
          "execution_count": 43
        }
      ],
      "source": [
        "# Now we'll verify that they work, by getting the code for \"A\", and then looking\n",
        "# that up in reverse\n",
        "testids = ids_from_chars([\"T\", \"r\", \"u\", \"t\", \"h\"])\n",
        "testids"
      ]
    },
    {
      "cell_type": "code",
      "execution_count": null,
      "metadata": {
        "colab": {
          "base_uri": "https://localhost:8080/"
        },
        "id": "vGUnSHjtD_IJ",
        "outputId": "81a9d920-9e33-4aa9-932b-5e792ccff2fb"
      },
      "outputs": [
        {
          "output_type": "execute_result",
          "data": {
            "text/plain": [
              "<tf.Tensor: shape=(5,), dtype=string, numpy=array([b'T', b'r', b'u', b't', b'h'], dtype=object)>"
            ]
          },
          "metadata": {},
          "execution_count": 44
        }
      ],
      "source": [
        "chars_from_ids(testids)"
      ]
    },
    {
      "cell_type": "code",
      "execution_count": null,
      "metadata": {
        "colab": {
          "base_uri": "https://localhost:8080/",
          "height": 36
        },
        "id": "8rghkpLLLjL5",
        "outputId": "6e697cc7-ae5a-441d-dc3e-e7688f93e5ef"
      },
      "outputs": [
        {
          "output_type": "execute_result",
          "data": {
            "text/plain": [
              "'Truth'"
            ],
            "application/vnd.google.colaboratory.intrinsic+json": {
              "type": "string"
            }
          },
          "metadata": {},
          "execution_count": 45
        }
      ],
      "source": [
        "testString = text_from_ids( testids )\n",
        "testString"
      ]
    },
    {
      "cell_type": "markdown",
      "metadata": {
        "id": "MRXMVqTcSpA0"
      },
      "source": [
        "## II. Construct our training data\n",
        "Next we need to construct our training data by building sentence chunks. Each chunk will consist of a sequence of characters and a corresponding \"next sequence\" of the same length showing what would happen if we move forward in the text. This \"next sequence\" becomes our target variable.\n",
        "\n",
        "For example, if this were our text:\n",
        "\n",
        "> It is a truth universally acknowledged, that a single man in possession\n",
        "of a good fortune, must be in want of a wife.\n",
        "\n",
        "And our sequence length was 10 with a step size of 1, our first chunk would be:\n",
        "\n",
        "* Sequence: `It is a tr`\n",
        "* Next Sequence: `t is a tru`\n",
        "\n",
        "Our second chunk would be:\n",
        "\n",
        "* Sequence: `t is a tru`\n",
        "* Next Word: ` is a trut`\n",
        "\n"
      ]
    },
    {
      "cell_type": "code",
      "execution_count": null,
      "metadata": {
        "colab": {
          "base_uri": "https://localhost:8080/"
        },
        "id": "5PLJWOg2P_fE",
        "outputId": "25ad439e-88cd-4a59-d158-4d400c1a1f55"
      },
      "outputs": [
        {
          "output_type": "execute_result",
          "data": {
            "text/plain": [
              "<tf.Tensor: shape=(562874,), dtype=int64, numpy=array([76,  1, 19, ...,  1,  1,  1])>"
            ]
          },
          "metadata": {},
          "execution_count": 46
        }
      ],
      "source": [
        "# First, create a stream of encoded integers from our text\n",
        "all_ids = ids_from_chars(tf.strings.unicode_split(text, 'UTF-8'))\n",
        "all_ids"
      ]
    },
    {
      "cell_type": "code",
      "execution_count": null,
      "metadata": {
        "id": "-nBqVY6pFpZs"
      },
      "outputs": [],
      "source": [
        "# Now, convert that into a tensorflow dataset\n",
        "ids_dataset = tf.data.Dataset.from_tensor_slices(all_ids)"
      ]
    },
    {
      "cell_type": "code",
      "execution_count": null,
      "metadata": {
        "id": "8Fr28CJxUBtG"
      },
      "outputs": [],
      "source": [
        "# Finally, let's batch these sequences up into chunks for our training\n",
        "seq_length = 150\n",
        "sequences = ids_dataset.batch(seq_length+1, drop_remainder=True)\n",
        "\n",
        "# This function will generate our sequence pairs:\n",
        "def split_input_target(sequence):\n",
        "    input_text = sequence[:-1]\n",
        "    target_text = sequence[1:]\n",
        "    return input_text, target_text\n",
        "\n",
        "# Call the function for every sequence in our list to create a new dataset\n",
        "# of input->target pairs\n",
        "dataset = sequences.map(split_input_target)"
      ]
    },
    {
      "cell_type": "code",
      "execution_count": null,
      "metadata": {
        "colab": {
          "base_uri": "https://localhost:8080/"
        },
        "id": "poNVukmsUFkq",
        "outputId": "db8c8ac5-3b7a-49c3-cf99-435657412e6d"
      },
      "outputs": [
        {
          "output_type": "stream",
          "name": "stdout",
          "text": [
            "Input:  ﻿\n",
            "ADVENTURES\n",
            "OF\n",
            "HUCKLEBERRY FINN\n",
            "\n",
            "(Tom Sawyer’s Comrade)\n",
            "\n",
            "By Mark Twain\n",
            "\n",
            "\n",
            "\n",
            "HUCKLEBERRY FINN\n",
            "\n",
            "Scene: The Mississippi Valley Time: Forty to fifty years \n",
            "--------\n",
            "Target:  \n",
            "ADVENTURES\n",
            "OF\n",
            "HUCKLEBERRY FINN\n",
            "\n",
            "(Tom Sawyer’s Comrade)\n",
            "\n",
            "By Mark Twain\n",
            "\n",
            "\n",
            "\n",
            "HUCKLEBERRY FINN\n",
            "\n",
            "Scene: The Mississippi Valley Time: Forty to fifty years a\n"
          ]
        }
      ],
      "source": [
        "# Verify our sequences\n",
        "for input_example, target_example in  dataset.take(1):\n",
        "    print(\"Input: \", text_from_ids(input_example))\n",
        "    print(\"--------\")\n",
        "    print(\"Target: \", text_from_ids(target_example))"
      ]
    },
    {
      "cell_type": "code",
      "execution_count": null,
      "metadata": {
        "colab": {
          "base_uri": "https://localhost:8080/"
        },
        "id": "QDdr6xfZYa0o",
        "outputId": "e039f287-2a58-43e5-a4b5-cb79370aef7e"
      },
      "outputs": [
        {
          "output_type": "execute_result",
          "data": {
            "text/plain": [
              "<PrefetchDataset element_spec=(TensorSpec(shape=(64, 150), dtype=tf.int64, name=None), TensorSpec(shape=(64, 150), dtype=tf.int64, name=None))>"
            ]
          },
          "metadata": {},
          "execution_count": 50
        }
      ],
      "source": [
        "# Finally, we'll randomize the sequences so that we don't just memorize the books\n",
        "# in the order they were written, then build a new streaming dataset from that.\n",
        "# Using a streaming dataset allows us to pass the data to our network bit by bit,\n",
        "# rather than keeping it all in memory. We'll set it to figure out how much data\n",
        "# to prefetch in the background.\n",
        "\n",
        "BATCH_SIZE = 64\n",
        "BUFFER_SIZE = 10000\n",
        "\n",
        "dataset = (\n",
        "    dataset\n",
        "    .shuffle(BUFFER_SIZE)\n",
        "    .batch(BATCH_SIZE, drop_remainder=True)\n",
        "    .prefetch(tf.data.experimental.AUTOTUNE))\n",
        "\n",
        "dataset"
      ]
    },
    {
      "cell_type": "markdown",
      "metadata": {
        "id": "0VQ-KjEeZMzd"
      },
      "source": [
        "## III. Build the model\n",
        "\n",
        "Next, we'll build our model. Up until this point, you've been using the Keras symbolic, or imperative API for creating your models. Doing something like:\n",
        "\n",
        "    model = tf.keras.models.Sequentla()\n",
        "    model.add(tf.keras.layers.Dense(80, activation='relu))\n",
        "    etc...\n",
        "\n",
        "However, tensorflow has another way to build models called the Functional API, which gives us a lot more control over what happens inside the model. You can read more about [the differences and when to use each here](https://blog.tensorflow.org/2019/01/what-are-symbolic-and-imperative-apis.html).\n",
        "\n",
        "We'll use the functional API for our RNN in this example. This will involve defining our model as a custom subclass of `tf.keras.Model`.\n",
        "\n",
        "If you're not familiar with classes in python, you might want to review [this quick tutorial](https://www.w3schools.com/python/python_classes.asp), as well as [this one on class inheritance](https://www.w3schools.com/python/python_inheritance.asp).\n",
        "\n",
        "Using a functional model is important for our situation because we're not just training it to predict a single character for a single sequence, but as we make predictions with it, we need it to remember those predictions as use that memory as it makes new predictions.\n"
      ]
    },
    {
      "cell_type": "code",
      "execution_count": null,
      "metadata": {
        "id": "Fj4uh9y-Y9mx"
      },
      "outputs": [],
      "source": [
        "# Create our custom model. Given a sequence of characters, this\n",
        "# model's job is to predict what character should come next.\n",
        "class TextModel(tf.keras.Model):\n",
        "\n",
        "  # This is our class constructor method, it will be executed when\n",
        "  # we first create an instance of the class \n",
        "  def __init__(self, vocab_size, embedding_dim, rnn_units):\n",
        "    super().__init__(self)\n",
        "\n",
        "    # Our model will have three layers:\n",
        "    \n",
        "    # 1. An embedding layer that handles the encoding of our vocabulary into\n",
        "    #    a vector of values suitable for a neural network\n",
        "    self.embedding = tf.keras.layers.Embedding(vocab_size, embedding_dim)\n",
        "\n",
        "    # 2. A GRU layer that handles the \"memory\" aspects of our RNN. If you're\n",
        "    #    wondering why we use GRU instead of LSTM, and whether LSTM is better,\n",
        "    #    take a look at this article: https://datascience.stackexchange.com/questions/14581/when-to-use-gru-over-lstm\n",
        "    #    then consider trying out LSTM instead (or in addition to!)\n",
        "    self.gru = tf.keras.layers.GRU(rnn_units, return_sequences=True, return_state=True)\n",
        "\n",
        "    # 3. Our output layer that will give us a set of probabilities for each\n",
        "    #    character in our vocabulary.\n",
        "    self.dense = tf.keras.layers.Dense(vocab_size)\n",
        "\n",
        "  # This function will be executed for each epoch of our training. Here\n",
        "  # we will manually feed information from one layer of our network to the \n",
        "  # next.\n",
        "  def call(self, inputs, states=None, return_state=False, training=False):\n",
        "    x = inputs\n",
        "\n",
        "    # 1. Feed the inputs into the embedding layer, and tell it if we are\n",
        "    #    training or predicting\n",
        "    x = self.embedding(x, training=training)\n",
        "\n",
        "    # 2. If we don't have any state in memory yet, get the initial random state\n",
        "    #    from our GRUI layer.\n",
        "    if states is None:\n",
        "      states = self.gru.get_initial_state(x)\n",
        "    \n",
        "    # 3. Now, feed the vectorized input along with the current state of memory\n",
        "    #    into the gru layer.\n",
        "    x, states = self.gru(x, initial_state=states, training=training)\n",
        "\n",
        "    # 4. Finally, pass the results on to the dense layer\n",
        "    x = self.dense(x, training=training)\n",
        "\n",
        "    # 5. Return the results\n",
        "    if return_state:\n",
        "      return x, states\n",
        "    else: \n",
        "      return x"
      ]
    },
    {
      "cell_type": "code",
      "execution_count": null,
      "metadata": {
        "id": "UA2C6pxZc4De"
      },
      "outputs": [],
      "source": [
        "# Create an instance of our model\n",
        "vocab_size=len(ids_from_chars.get_vocabulary())\n",
        "embedding_dim = 256\n",
        "rnn_units = 1024\n",
        "\n",
        "model_huck = TextModel(vocab_size, embedding_dim, rnn_units)\n",
        "model_austen = TextModel(vocab_size, embedding_dim, rnn_units)\n",
        "#model_gatsby = TextModel(vocab_size, embedding_dim, rnn_units)"
      ]
    },
    {
      "cell_type": "code",
      "execution_count": null,
      "metadata": {
        "colab": {
          "base_uri": "https://localhost:8080/"
        },
        "id": "C67kN7YAdfSf",
        "outputId": "16d8aaaf-0085-4d7d-e93b-5dda8f2ee09c"
      },
      "outputs": [
        {
          "output_type": "stream",
          "name": "stdout",
          "text": [
            "(64, 150, 77) # (batch_size, sequence_length, vocab_size)\n"
          ]
        }
      ],
      "source": [
        "# Verify the output of our model is correct by running one sample through\n",
        "# This will also compile the model for us. This step will take a bit.\n",
        "for input_example_batch, target_example_batch in dataset.take(1):\n",
        "    example_batch_predictions = model_huck(input_example_batch)\n",
        "    print(example_batch_predictions.shape, \"# (batch_size, sequence_length, vocab_size)\")\n"
      ]
    },
    {
      "cell_type": "code",
      "execution_count": null,
      "metadata": {
        "colab": {
          "base_uri": "https://localhost:8080/"
        },
        "id": "qJGL8gCWdsiu",
        "outputId": "a92bc678-cbfb-4e9b-91c2-3b2630316b88"
      },
      "outputs": [
        {
          "output_type": "stream",
          "name": "stdout",
          "text": [
            "Model: \"text_model_10\"\n",
            "_________________________________________________________________\n",
            " Layer (type)                Output Shape              Param #   \n",
            "=================================================================\n",
            " embedding_15 (Embedding)    multiple                  19712     \n",
            "                                                                 \n",
            " gru_15 (GRU)                multiple                  3938304   \n",
            "                                                                 \n",
            " dense_15 (Dense)            multiple                  78925     \n",
            "                                                                 \n",
            "=================================================================\n",
            "Total params: 4,036,941\n",
            "Trainable params: 4,036,941\n",
            "Non-trainable params: 0\n",
            "_________________________________________________________________\n"
          ]
        }
      ],
      "source": [
        "# Now let's view the model summary\n",
        "model_huck.summary()"
      ]
    },
    {
      "cell_type": "markdown",
      "metadata": {
        "id": "wTDe5m4baEqo"
      },
      "source": [
        "## IV. Train the model\n",
        "\n",
        "For our purposes, we'll be using [categorical cross entropy](https://machinelearningmastery.com/cross-entropy-for-machine-learning/) as our loss function*. Also, our model will be outputting [\"logits\" rather than normalized probabilities](https://stackoverflow.com/questions/41455101/what-is-the-meaning-of-the-word-logits-in-tensorflow), because we'll be doing further transformations on the output later. \n",
        "\n",
        "\n",
        "\\* Note that since our model deals with integer encoding rather than one-hot encoding, we'll specifically be using [sparse categorical cross entropy](https://stats.stackexchange.com/questions/326065/cross-entropy-vs-sparse-cross-entropy-when-to-use-one-over-the-other)."
      ]
    },
    {
      "cell_type": "code",
      "execution_count": null,
      "metadata": {
        "colab": {
          "base_uri": "https://localhost:8080/"
        },
        "id": "7vOxc7CkaGQB",
        "outputId": "ccc6f89c-a4a2-4df3-d5aa-b45c9d478a2a"
      },
      "outputs": [
        {
          "output_type": "stream",
          "name": "stdout",
          "text": [
            "Epoch 1/90\n",
            "58/58 [==============================] - 10s 90ms/step - loss: 2.9893\n",
            "Epoch 2/90\n",
            "58/58 [==============================] - 6s 82ms/step - loss: 2.2509\n",
            "Epoch 3/90\n",
            "58/58 [==============================] - 6s 83ms/step - loss: 2.0424\n",
            "Epoch 4/90\n",
            "58/58 [==============================] - 6s 81ms/step - loss: 1.8552\n",
            "Epoch 5/90\n",
            "58/58 [==============================] - 6s 85ms/step - loss: 1.7058\n",
            "Epoch 6/90\n",
            "58/58 [==============================] - 6s 87ms/step - loss: 1.5873\n",
            "Epoch 7/90\n",
            "58/58 [==============================] - 6s 91ms/step - loss: 1.4951\n",
            "Epoch 8/90\n",
            "58/58 [==============================] - 6s 90ms/step - loss: 1.4208\n",
            "Epoch 9/90\n",
            "58/58 [==============================] - 7s 91ms/step - loss: 1.3587\n",
            "Epoch 10/90\n",
            "58/58 [==============================] - 6s 92ms/step - loss: 1.3056\n",
            "Epoch 11/90\n",
            "58/58 [==============================] - 6s 92ms/step - loss: 1.2594\n",
            "Epoch 12/90\n",
            "58/58 [==============================] - 6s 90ms/step - loss: 1.2165\n",
            "Epoch 13/90\n",
            "58/58 [==============================] - 6s 90ms/step - loss: 1.1759\n",
            "Epoch 14/90\n",
            "58/58 [==============================] - 6s 89ms/step - loss: 1.1352\n",
            "Epoch 15/90\n",
            "58/58 [==============================] - 6s 89ms/step - loss: 1.0955\n",
            "Epoch 16/90\n",
            "58/58 [==============================] - 6s 88ms/step - loss: 1.0561\n",
            "Epoch 17/90\n",
            "58/58 [==============================] - 6s 88ms/step - loss: 1.0165\n",
            "Epoch 18/90\n",
            "58/58 [==============================] - 6s 87ms/step - loss: 0.9741\n",
            "Epoch 19/90\n",
            "58/58 [==============================] - 7s 86ms/step - loss: 0.9306\n",
            "Epoch 20/90\n",
            "58/58 [==============================] - 6s 87ms/step - loss: 0.8844\n",
            "Epoch 21/90\n",
            "58/58 [==============================] - 6s 89ms/step - loss: 0.8379\n",
            "Epoch 22/90\n",
            "58/58 [==============================] - 6s 90ms/step - loss: 0.7879\n",
            "Epoch 23/90\n",
            "58/58 [==============================] - 6s 91ms/step - loss: 0.7408\n",
            "Epoch 24/90\n",
            "58/58 [==============================] - 6s 90ms/step - loss: 0.6878\n",
            "Epoch 25/90\n",
            "58/58 [==============================] - 6s 89ms/step - loss: 0.6361\n",
            "Epoch 26/90\n",
            "58/58 [==============================] - 6s 89ms/step - loss: 0.5874\n",
            "Epoch 27/90\n",
            "58/58 [==============================] - 6s 89ms/step - loss: 0.5388\n",
            "Epoch 28/90\n",
            "58/58 [==============================] - 6s 89ms/step - loss: 0.4906\n",
            "Epoch 29/90\n",
            "58/58 [==============================] - 6s 88ms/step - loss: 0.4481\n",
            "Epoch 30/90\n",
            "58/58 [==============================] - 6s 86ms/step - loss: 0.4049\n",
            "Epoch 31/90\n",
            "58/58 [==============================] - 6s 86ms/step - loss: 0.3700\n",
            "Epoch 32/90\n",
            "58/58 [==============================] - 6s 88ms/step - loss: 0.3372\n",
            "Epoch 33/90\n",
            "58/58 [==============================] - 6s 91ms/step - loss: 0.3055\n",
            "Epoch 34/90\n",
            "58/58 [==============================] - 6s 93ms/step - loss: 0.2785\n",
            "Epoch 35/90\n",
            "58/58 [==============================] - 6s 93ms/step - loss: 0.2558\n",
            "Epoch 36/90\n",
            "58/58 [==============================] - 6s 92ms/step - loss: 0.2377\n",
            "Epoch 37/90\n",
            "58/58 [==============================] - 6s 91ms/step - loss: 0.2183\n",
            "Epoch 38/90\n",
            "58/58 [==============================] - 6s 87ms/step - loss: 0.2013\n",
            "Epoch 39/90\n",
            "58/58 [==============================] - 6s 87ms/step - loss: 0.1860\n",
            "Epoch 40/90\n",
            "58/58 [==============================] - 6s 87ms/step - loss: 0.1746\n",
            "Epoch 41/90\n",
            "58/58 [==============================] - 6s 87ms/step - loss: 0.1636\n",
            "Epoch 42/90\n",
            "58/58 [==============================] - 6s 88ms/step - loss: 0.1552\n",
            "Epoch 43/90\n",
            "58/58 [==============================] - 6s 87ms/step - loss: 0.1476\n",
            "Epoch 44/90\n",
            "58/58 [==============================] - 6s 87ms/step - loss: 0.1447\n",
            "Epoch 45/90\n",
            "58/58 [==============================] - 6s 89ms/step - loss: 0.1396\n",
            "Epoch 46/90\n",
            "58/58 [==============================] - 6s 92ms/step - loss: 0.1353\n",
            "Epoch 47/90\n",
            "58/58 [==============================] - 6s 93ms/step - loss: 0.1321\n",
            "Epoch 48/90\n",
            "58/58 [==============================] - 6s 90ms/step - loss: 0.1308\n",
            "Epoch 49/90\n",
            "58/58 [==============================] - 6s 90ms/step - loss: 0.1315\n",
            "Epoch 50/90\n",
            "58/58 [==============================] - 6s 89ms/step - loss: 0.1321\n",
            "Epoch 51/90\n",
            "58/58 [==============================] - 6s 89ms/step - loss: 0.1388\n",
            "Epoch 52/90\n",
            "58/58 [==============================] - 6s 88ms/step - loss: 0.1453\n",
            "Epoch 53/90\n",
            "58/58 [==============================] - 6s 86ms/step - loss: 0.1518\n",
            "Epoch 54/90\n",
            "58/58 [==============================] - 7s 86ms/step - loss: 0.1562\n",
            "Epoch 55/90\n",
            "58/58 [==============================] - 6s 88ms/step - loss: 0.1577\n",
            "Epoch 56/90\n",
            "58/58 [==============================] - 7s 89ms/step - loss: 0.1533\n",
            "Epoch 57/90\n",
            "58/58 [==============================] - 6s 90ms/step - loss: 0.1461\n",
            "Epoch 58/90\n",
            "58/58 [==============================] - 7s 90ms/step - loss: 0.1366\n",
            "Epoch 59/90\n",
            "58/58 [==============================] - 6s 90ms/step - loss: 0.1232\n",
            "Epoch 60/90\n",
            "58/58 [==============================] - 6s 90ms/step - loss: 0.1115\n",
            "Epoch 61/90\n",
            "58/58 [==============================] - 7s 90ms/step - loss: 0.0992\n",
            "Epoch 62/90\n",
            "58/58 [==============================] - 6s 91ms/step - loss: 0.0886\n",
            "Epoch 63/90\n",
            "58/58 [==============================] - 7s 90ms/step - loss: 0.0767\n",
            "Epoch 64/90\n",
            "58/58 [==============================] - 6s 90ms/step - loss: 0.0670\n",
            "Epoch 65/90\n",
            "58/58 [==============================] - 6s 87ms/step - loss: 0.0594\n",
            "Epoch 66/90\n",
            "58/58 [==============================] - 6s 87ms/step - loss: 0.0547\n",
            "Epoch 67/90\n",
            "58/58 [==============================] - 6s 88ms/step - loss: 0.0520\n",
            "Epoch 68/90\n",
            "58/58 [==============================] - 6s 90ms/step - loss: 0.0505\n",
            "Epoch 69/90\n",
            "58/58 [==============================] - 6s 88ms/step - loss: 0.0499\n",
            "Epoch 70/90\n",
            "58/58 [==============================] - 6s 89ms/step - loss: 0.0493\n",
            "Epoch 71/90\n",
            "58/58 [==============================] - 6s 90ms/step - loss: 0.0489\n",
            "Epoch 72/90\n",
            "58/58 [==============================] - 6s 91ms/step - loss: 0.0487\n",
            "Epoch 73/90\n",
            "58/58 [==============================] - 6s 92ms/step - loss: 0.0485\n",
            "Epoch 74/90\n",
            "58/58 [==============================] - 6s 87ms/step - loss: 0.0484\n",
            "Epoch 75/90\n",
            "58/58 [==============================] - 7s 87ms/step - loss: 0.0481\n",
            "Epoch 76/90\n",
            "58/58 [==============================] - 6s 89ms/step - loss: 0.0481\n",
            "Epoch 77/90\n",
            "58/58 [==============================] - 7s 90ms/step - loss: 0.0484\n",
            "Epoch 78/90\n",
            "58/58 [==============================] - 6s 90ms/step - loss: 0.0484\n",
            "Epoch 79/90\n",
            "58/58 [==============================] - 6s 87ms/step - loss: 0.0482\n",
            "Epoch 80/90\n",
            "58/58 [==============================] - 6s 88ms/step - loss: 0.0483\n",
            "Epoch 81/90\n",
            "58/58 [==============================] - 6s 90ms/step - loss: 0.0486\n",
            "Epoch 82/90\n",
            "58/58 [==============================] - 6s 90ms/step - loss: 0.0490\n",
            "Epoch 83/90\n",
            "58/58 [==============================] - 6s 90ms/step - loss: 0.0496\n",
            "Epoch 84/90\n",
            "58/58 [==============================] - 6s 90ms/step - loss: 0.0510\n",
            "Epoch 85/90\n",
            "58/58 [==============================] - 6s 89ms/step - loss: 0.0581\n",
            "Epoch 86/90\n",
            "58/58 [==============================] - 6s 88ms/step - loss: 0.8988\n",
            "Epoch 87/90\n",
            "58/58 [==============================] - 6s 88ms/step - loss: 0.9102\n",
            "Epoch 88/90\n",
            "58/58 [==============================] - 6s 89ms/step - loss: 0.6210\n",
            "Epoch 89/90\n",
            "58/58 [==============================] - 6s 90ms/step - loss: 0.4587\n",
            "Epoch 90/90\n",
            "58/58 [==============================] - 6s 90ms/step - loss: 0.3600\n"
          ]
        }
      ],
      "source": [
        "loss = tf.losses.SparseCategoricalCrossentropy(from_logits=True)\n",
        "model_huck.compile(optimizer='Nadam', loss=loss)\n",
        "\n",
        "history = model_huck.fit(dataset, epochs=90)"
      ]
    },
    {
      "cell_type": "markdown",
      "metadata": {
        "id": "casEwxrXcv4Y"
      },
      "source": [
        "## V. Use the model\n",
        "\n",
        "Now that our model has been trained, we can use it to generate text. As mentioned earlier, to do so we have to keep track of its internal state, or memory, so that we can use previous text predictions to inform later ones.\n",
        "\n",
        "However, with RNN generated text, if we always just pick the character with the highest probability, our model tends to get stuck in a loop. So instead we will create a probability distribution of characters for each step, and then sample from that distribution. We can add some variation to this using a paramter known as [\"temperature\"](https://cs.stackexchange.com/questions/79241/what-is-temperature-in-lstm-and-neural-networks-generally)."
      ]
    },
    {
      "cell_type": "code",
      "execution_count": null,
      "metadata": {
        "id": "V3lhlyfwcqIN"
      },
      "outputs": [],
      "source": [
        "# Here's the code we'll use to sample for us. It has some extra steps to apply\n",
        "# the temperature to the distribution, and to make sure we don't get empty\n",
        "# characters in our text. Most importantly, it will keep track of our model\n",
        "# state for us.\n",
        "\n",
        "class OneStep(tf.keras.Model):\n",
        "  def __init__(self, model, chars_from_ids, ids_from_chars, temperature=0.5):\n",
        "    super().__init__()\n",
        "    self.temperature=temperature\n",
        "    self.model = model\n",
        "    self.chars_from_ids = chars_from_ids\n",
        "    self.ids_from_chars = ids_from_chars\n",
        "\n",
        "    # Create a mask to prevent \"\" or \"[UNK]\" from being generated.\n",
        "    skip_ids = self.ids_from_chars(['','[UNK]'])[:, None]\n",
        "    sparse_mask = tf.SparseTensor(\n",
        "        # Put a -inf at each bad index.\n",
        "        values=[-float('inf')]*len(skip_ids),\n",
        "        indices = skip_ids,\n",
        "        # Match the shape to the vocabulary\n",
        "        dense_shape=[len(ids_from_chars.get_vocabulary())]) \n",
        "    self.prediction_mask = tf.sparse.to_dense(sparse_mask,validate_indices=False)\n",
        "\n",
        "  @tf.function\n",
        "  def generate_one_step(self, inputs, states=None):\n",
        "    # Convert strings to token IDs.\n",
        "    input_chars = tf.strings.unicode_split(inputs, 'UTF-8')\n",
        "    input_ids = self.ids_from_chars(input_chars).to_tensor()\n",
        "\n",
        "    # Run the model.\n",
        "    # predicted_logits.shape is [batch, char, next_char_logits] \n",
        "    predicted_logits, states =  self.model(inputs=input_ids, states=states, \n",
        "                                          return_state=True)\n",
        "    # Only use the last prediction.\n",
        "    predicted_logits = predicted_logits[:, -1, :]\n",
        "    predicted_logits = predicted_logits/self.temperature\n",
        "    \n",
        "    # Apply the prediction mask: prevent \"\" or \"[UNK]\" from being generated.\n",
        "    predicted_logits = predicted_logits + self.prediction_mask\n",
        "\n",
        "    # Sample the output logits to generate token IDs.\n",
        "    predicted_ids = tf.random.categorical(predicted_logits, num_samples=1)\n",
        "    predicted_ids = tf.squeeze(predicted_ids, axis=-1)\n",
        "\n",
        "    # Return the characters and model state.\n",
        "    return chars_from_ids(predicted_ids), states\n"
      ]
    },
    {
      "cell_type": "code",
      "execution_count": null,
      "metadata": {
        "colab": {
          "base_uri": "https://localhost:8080/"
        },
        "id": "fSUghgUFc6ba",
        "outputId": "0a5c6e37-b7db-4ff3-e2b1-9bfbaea7ee1d"
      },
      "outputs": [
        {
          "output_type": "stream",
          "name": "stdout",
          "text": [
            "Model to use (huck, gatsby, austen): huck\n",
            "The world seemed like such a peaceful place until the magic tree was discovered in London.\n",
            "There was a stiff cares; he said we\n",
            "must slid in our tracks and started for the raft in the same time.\n",
            "\n",
            "I didn’t see no disturbance, and then they’d jaived in the front door, and set there and watched him right and talked, but the\n",
            "doctor says:\n",
            "\n",
            "“I don’t want to blow on nobody; and I’ll do\n",
            "it. Tom and me was to play this n****r’s hours and\n",
            "tagged and goes to decide, and keep them to the brue and easy, and if anybody ever come more than a\n",
            "passel of fault with me for de watchman on dat\n",
            "you’re going to see you comes.”\n",
            "\n",
            "“So you live difforeder.”\n",
            "\n",
            "“Well, then, what do you _be_, I s’pose we had ever live’. I doan’ might find no more about it. He’d\n",
            "_got_ to do it. They’ve got across; and there’s a reward but a\n",
            "shake son of things on it. One man said he reckoned\n",
            "a body could a got the\n",
            "boy, and was going to stir, and gave us a cussing,\n",
            "and said four some stripsing end; and when I come in and shut the door; and the first prance they got some piece of logs before\n",
            "they got so fourd en slow, en pant es dat big line it out of a way that’s talking about now, and\n",
            "get there any preacher satisfaction to the door, and come to Tom’s more would a\n",
            "seed that petting that we could see it.\n",
            "\n",
            "He was uncommon bright, the duke called him and says:\n",
            "\n",
            "“Don’t any more was coming down the river. There is a desprate gang had said it. I haven’t come to be here, and the way I look at\n",
            "it, a hickry bad to buy canoed having me out to as much as easy and\n",
            "comfortable, and took him back hand of me\n",
            "again, and was fidge\n"
          ]
        }
      ],
      "source": [
        "# Create an instance of the character generator\n",
        "model = str(input('Model to use (huck, gatsby, austen): '))\n",
        "if model == 'huck':\n",
        "  one_step_model = OneStep(model_huck, chars_from_ids, ids_from_chars)\n",
        "elif model == 'gatsby':\n",
        "  one_step_model = OneStep(model_gatsby, chars_from_ids, ids_from_chars)\n",
        "else:\n",
        "  one_step_model = OneStep(model_austen, chars_from_ids, ids_from_chars)\n",
        "\n",
        "\n",
        "# Now, let's generate a 1000 character chapter by giving our model \"Chapter 1\"\n",
        "# as its starting text\n",
        "states = None\n",
        "next_char = tf.constant(['The world seemed like such a peaceful place until the magic tree was discovered in London.'])\n",
        "result = [next_char]\n",
        "\n",
        "for n in range(1500):\n",
        "  next_char, states = one_step_model.generate_one_step(next_char, states=states)\n",
        "  result.append(next_char)\n",
        "\n",
        "result = tf.strings.join(result)\n",
        "\n",
        "# Print the results formatted.\n",
        "result=(result[0].numpy().decode('utf-8'))\n",
        "result =result.replace(\"igge\",\"****\")\n",
        "print(result)\n"
      ]
    },
    {
      "cell_type": "markdown",
      "metadata": {
        "id": "b2Cudf3YoaKr"
      },
      "source": [
        "## VI. Next Steps\n",
        "\n",
        "This is a very simple model with one GRU layer and then an output layer. However, considering how simple it is and the fact that we are predicting outputs character by character, the text it produces is pretty amazing. Though it still has a long way to go before publication.\n",
        "\n",
        "There are many other RNN architectures you could try, such as adding additional hidden dense layers, replacing GRU with one or more LSTM layers, combining GRU and LSTM, etc...\n",
        "\n",
        "You could also experiment with better text cleanup to make sure odd punctuation doesn't appear, or finding longer texts to use. If you combine texts from two authors, what happens? Can you generate a Jane Austen stageplay by combining austen and shakespeare texts?\n",
        "\n",
        "Finally, there are a number of hyperparameters to tweak, such as temperature, epochs, batch size, sequence length, etc..."
      ]
    }
  ],
  "metadata": {
    "accelerator": "GPU",
    "colab": {
      "provenance": [],
      "include_colab_link": true
    },
    "kernelspec": {
      "display_name": "Python 3",
      "name": "python3"
    }
  },
  "nbformat": 4,
  "nbformat_minor": 0
}